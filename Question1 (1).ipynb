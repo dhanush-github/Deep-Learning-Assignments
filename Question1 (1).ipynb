{
 "cells": [
  {
   "cell_type": "markdown",
   "metadata": {},
   "source": [
    "### TEAM 9\n",
    "CB.EN.P2DSC21010  \n",
    "\n",
    "CB.EN.P2DSC21016"
   ]
  },
  {
   "cell_type": "code",
   "execution_count": 1,
   "metadata": {
    "id": "9DU0QBeWC61U"
   },
   "outputs": [],
   "source": [
    "import numpy as np"
   ]
  },
  {
   "cell_type": "markdown",
   "metadata": {
    "id": "Fs3jMB0ySj8y"
   },
   "source": [
    "# We are creating a multilayer deep neural netrwork with:\n",
    "\n",
    "# 1) Input  layer has 3 input neurons.\n",
    "\n",
    "# 2) Two hidden layers: First hidden layer has 3 neurons   and second hidden layer has 5 neurons.\n",
    "\n",
    "# 3) A output layer which has 3 output neurons\n",
    "\n",
    "# 4) With sigmoid as our activation function for our forward propagation.\n",
    "\n",
    "# This code is customizable and a user can provide any number of hidden layers and multiple outputs"
   ]
  },
  {
   "cell_type": "code",
   "execution_count": 2,
   "metadata": {
    "id": "ONU8IfL5-9xS"
   },
   "outputs": [],
   "source": [
    "class MLP(object):\n",
    "\n",
    "    \"\"\"A Multilayer Perceptron class.\n",
    "    \"\"\"\n",
    "    def __init__(self, num_inputs=3, hidden_layers=[3, 5], num_outputs=3):\n",
    "        \"\"\"Constructor for the MLP. Takes the number of inputs,\n",
    "            a variable number of hidden layers, and number of outputs\n",
    "        Args:\n",
    "            num_inputs (int): Number of inputs\n",
    "            hidden_layers (list): A list of ints for the hidden layers\n",
    "            num_outputs (int): Number of outputs\n",
    "        \"\"\"\n",
    "\n",
    "        self.num_inputs = num_inputs\n",
    "        self.hidden_layers = hidden_layers\n",
    "        self.num_outputs = num_outputs\n",
    "\n",
    "        # create a generic representation of the layers\n",
    "        layers = [num_inputs] + hidden_layers + [num_outputs]\n",
    "\n",
    "        # create random connection weights for the layers\n",
    "        weights = []\n",
    "        for i in range(len(layers)-1):\n",
    "            w = np.random.rand(layers[i], layers[i+1])\n",
    "            weights.append(w)\n",
    "        self.weights = weights\n",
    "        biases = weights = np.random.rand(len(hidden_layers)) #bias term for each hidden layer \n",
    "        self.biases = biases\n",
    "\n",
    "\n",
    "    def forward_propagate(self, inputs):\n",
    "        \"\"\"Computes forward propagation of the network based on input signals.\n",
    "        Args:\n",
    "            inputs (ndarray): Input signals\n",
    "        Returns:\n",
    "            activations (ndarray): Output values\n",
    "        \"\"\"\n",
    "\n",
    "        # the input layer activation is just the input itself\n",
    "        activations = inputs\n",
    "\n",
    "        # iterate through the network layers\n",
    "        for w in self.weights:\n",
    "            x=0\n",
    "\n",
    "            # calculate matrix multiplication between previous activation and weight matrix\n",
    "            net_inputs = np.dot(activations, w)  + self.biases[x]\n",
    "\n",
    "            # apply sigmoid activation function\n",
    "            activations = self._sigmoid(net_inputs)\n",
    "\n",
    "            x+=1\n",
    "\n",
    "        # return output layer activation\n",
    "        return activations\n",
    "\n",
    "\n",
    "    def _sigmoid(self, x):\n",
    "        \"\"\"Sigmoid activation function\n",
    "        Args:\n",
    "            x (float): Value to be processed\n",
    "        Returns:\n",
    "            y (float): Output\n",
    "        \"\"\"\n",
    "        \n",
    "        y = 1.0 / (1 + np.exp(-x))\n",
    "        return y"
   ]
  },
  {
   "cell_type": "code",
   "execution_count": 3,
   "metadata": {
    "id": "CtKRenJlC1rd"
   },
   "outputs": [],
   "source": [
    "mlp = MLP()\n",
    "\n",
    "# set random values for network's input\n",
    "inputs = np.random.rand(mlp.num_inputs)\n",
    "\n",
    "# perform forward propagation\n",
    "output = mlp.forward_propagate(inputs)\n"
   ]
  },
  {
   "cell_type": "code",
   "execution_count": 4,
   "metadata": {
    "colab": {
     "base_uri": "https://localhost:8080/"
    },
    "id": "JHPCBd34DAyV",
    "outputId": "6054bf37-a3b8-49f2-e228-bcd2437fc4cf"
   },
   "outputs": [
    {
     "data": {
      "text/plain": [
       "array([0.13355478, 0.56529503, 0.75473294])"
      ]
     },
     "execution_count": 4,
     "metadata": {},
     "output_type": "execute_result"
    }
   ],
   "source": [
    "# inputs provided to the input layer\n",
    "inputs"
   ]
  },
  {
   "cell_type": "code",
   "execution_count": 5,
   "metadata": {
    "colab": {
     "base_uri": "https://localhost:8080/"
    },
    "id": "tEiroP4UDFBr",
    "outputId": "f587190c-9011-485e-92fa-abc3e558aefb"
   },
   "outputs": [
    {
     "name": "stdout",
     "output_type": "stream",
     "text": [
      "Network activation:\n"
     ]
    },
    {
     "data": {
      "text/plain": [
       "array([0.93100616, 0.89789442, 0.97434087])"
      ]
     },
     "execution_count": 5,
     "metadata": {},
     "output_type": "execute_result"
    }
   ],
   "source": [
    "# 3 multiple outputs\n",
    "print(\"Network activation:\")\n",
    "output"
   ]
  },
  {
   "cell_type": "code",
   "execution_count": null,
   "metadata": {
    "id": "Zs7HhKllesL8"
   },
   "outputs": [],
   "source": []
  }
 ],
 "metadata": {
  "colab": {
   "collapsed_sections": [],
   "name": "pipo.ipynb",
   "provenance": []
  },
  "kernelspec": {
   "display_name": "Python 3",
   "language": "python",
   "name": "python3"
  },
  "language_info": {
   "codemirror_mode": {
    "name": "ipython",
    "version": 3
   },
   "file_extension": ".py",
   "mimetype": "text/x-python",
   "name": "python",
   "nbconvert_exporter": "python",
   "pygments_lexer": "ipython3",
   "version": "3.8.5"
  }
 },
 "nbformat": 4,
 "nbformat_minor": 1
}
